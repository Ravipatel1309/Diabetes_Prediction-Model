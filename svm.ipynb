{
 "cells": [
  {
   "cell_type": "code",
   "execution_count": 35,
   "id": "ef34fda7-4abd-4daa-b1c8-a9f899542376",
   "metadata": {},
   "outputs": [
    {
     "data": {
      "text/html": [
       "<div>\n",
       "<style scoped>\n",
       "    .dataframe tbody tr th:only-of-type {\n",
       "        vertical-align: middle;\n",
       "    }\n",
       "\n",
       "    .dataframe tbody tr th {\n",
       "        vertical-align: top;\n",
       "    }\n",
       "\n",
       "    .dataframe thead th {\n",
       "        text-align: right;\n",
       "    }\n",
       "</style>\n",
       "<table border=\"1\" class=\"dataframe\">\n",
       "  <thead>\n",
       "    <tr style=\"text-align: right;\">\n",
       "      <th></th>\n",
       "      <th>Pregnancies</th>\n",
       "      <th>Glucose</th>\n",
       "      <th>BloodPressure</th>\n",
       "      <th>SkinThickness</th>\n",
       "      <th>Insulin</th>\n",
       "      <th>BMI</th>\n",
       "      <th>DiabetesPedigreeFunction</th>\n",
       "      <th>Age</th>\n",
       "      <th>Outcome</th>\n",
       "    </tr>\n",
       "  </thead>\n",
       "  <tbody>\n",
       "    <tr>\n",
       "      <th>0</th>\n",
       "      <td>6</td>\n",
       "      <td>148</td>\n",
       "      <td>72</td>\n",
       "      <td>35</td>\n",
       "      <td>0</td>\n",
       "      <td>33.6</td>\n",
       "      <td>0.627</td>\n",
       "      <td>50</td>\n",
       "      <td>1</td>\n",
       "    </tr>\n",
       "    <tr>\n",
       "      <th>1</th>\n",
       "      <td>1</td>\n",
       "      <td>85</td>\n",
       "      <td>66</td>\n",
       "      <td>29</td>\n",
       "      <td>0</td>\n",
       "      <td>26.6</td>\n",
       "      <td>0.351</td>\n",
       "      <td>31</td>\n",
       "      <td>0</td>\n",
       "    </tr>\n",
       "    <tr>\n",
       "      <th>2</th>\n",
       "      <td>8</td>\n",
       "      <td>183</td>\n",
       "      <td>64</td>\n",
       "      <td>0</td>\n",
       "      <td>0</td>\n",
       "      <td>23.3</td>\n",
       "      <td>0.672</td>\n",
       "      <td>32</td>\n",
       "      <td>1</td>\n",
       "    </tr>\n",
       "    <tr>\n",
       "      <th>3</th>\n",
       "      <td>1</td>\n",
       "      <td>89</td>\n",
       "      <td>66</td>\n",
       "      <td>23</td>\n",
       "      <td>94</td>\n",
       "      <td>28.1</td>\n",
       "      <td>0.167</td>\n",
       "      <td>21</td>\n",
       "      <td>0</td>\n",
       "    </tr>\n",
       "    <tr>\n",
       "      <th>4</th>\n",
       "      <td>0</td>\n",
       "      <td>137</td>\n",
       "      <td>40</td>\n",
       "      <td>35</td>\n",
       "      <td>168</td>\n",
       "      <td>43.1</td>\n",
       "      <td>2.288</td>\n",
       "      <td>33</td>\n",
       "      <td>1</td>\n",
       "    </tr>\n",
       "  </tbody>\n",
       "</table>\n",
       "</div>"
      ],
      "text/plain": [
       "   Pregnancies  Glucose  BloodPressure  SkinThickness  Insulin   BMI  \\\n",
       "0            6      148             72             35        0  33.6   \n",
       "1            1       85             66             29        0  26.6   \n",
       "2            8      183             64              0        0  23.3   \n",
       "3            1       89             66             23       94  28.1   \n",
       "4            0      137             40             35      168  43.1   \n",
       "\n",
       "   DiabetesPedigreeFunction  Age  Outcome  \n",
       "0                     0.627   50        1  \n",
       "1                     0.351   31        0  \n",
       "2                     0.672   32        1  \n",
       "3                     0.167   21        0  \n",
       "4                     2.288   33        1  "
      ]
     },
     "execution_count": 35,
     "metadata": {},
     "output_type": "execute_result"
    }
   ],
   "source": [
    "import numpy as np \n",
    "import pandas as pd \n",
    "from scipy import stats \n",
    "import seaborn as sns \n",
    "data= pd.read_csv('diabetes.csv')\n",
    "data.head()"
   ]
  },
  {
   "cell_type": "code",
   "execution_count": 36,
   "id": "358db78f-c2b3-4e54-9c19-c7f982464bdd",
   "metadata": {},
   "outputs": [
    {
     "name": "stdout",
     "output_type": "stream",
     "text": [
      "<class 'pandas.core.frame.DataFrame'>\n",
      "RangeIndex: 768 entries, 0 to 767\n",
      "Data columns (total 9 columns):\n",
      " #   Column                    Non-Null Count  Dtype  \n",
      "---  ------                    --------------  -----  \n",
      " 0   Pregnancies               768 non-null    int64  \n",
      " 1   Glucose                   768 non-null    int64  \n",
      " 2   BloodPressure             768 non-null    int64  \n",
      " 3   SkinThickness             768 non-null    int64  \n",
      " 4   Insulin                   768 non-null    int64  \n",
      " 5   BMI                       768 non-null    float64\n",
      " 6   DiabetesPedigreeFunction  768 non-null    float64\n",
      " 7   Age                       768 non-null    int64  \n",
      " 8   Outcome                   768 non-null    int64  \n",
      "dtypes: float64(2), int64(7)\n",
      "memory usage: 54.1 KB\n"
     ]
    }
   ],
   "source": [
    "data.info()"
   ]
  },
  {
   "cell_type": "code",
   "execution_count": 37,
   "id": "6662c200-5e02-430e-9dd9-9c8984c1c070",
   "metadata": {},
   "outputs": [
    {
     "data": {
      "text/plain": [
       "Pregnancies                 0\n",
       "Glucose                     0\n",
       "BloodPressure               0\n",
       "SkinThickness               0\n",
       "Insulin                     0\n",
       "BMI                         0\n",
       "DiabetesPedigreeFunction    0\n",
       "Age                         0\n",
       "Outcome                     0\n",
       "dtype: int64"
      ]
     },
     "execution_count": 37,
     "metadata": {},
     "output_type": "execute_result"
    }
   ],
   "source": [
    "data.isnull().sum()"
   ]
  },
  {
   "cell_type": "code",
   "execution_count": 38,
   "id": "034e8c27-5106-4973-875b-4df30899743f",
   "metadata": {},
   "outputs": [
    {
     "data": {
      "text/html": [
       "<div>\n",
       "<style scoped>\n",
       "    .dataframe tbody tr th:only-of-type {\n",
       "        vertical-align: middle;\n",
       "    }\n",
       "\n",
       "    .dataframe tbody tr th {\n",
       "        vertical-align: top;\n",
       "    }\n",
       "\n",
       "    .dataframe thead th {\n",
       "        text-align: right;\n",
       "    }\n",
       "</style>\n",
       "<table border=\"1\" class=\"dataframe\">\n",
       "  <thead>\n",
       "    <tr style=\"text-align: right;\">\n",
       "      <th></th>\n",
       "      <th>Pregnancies</th>\n",
       "      <th>Glucose</th>\n",
       "      <th>BloodPressure</th>\n",
       "      <th>SkinThickness</th>\n",
       "      <th>Insulin</th>\n",
       "      <th>BMI</th>\n",
       "      <th>DiabetesPedigreeFunction</th>\n",
       "      <th>Age</th>\n",
       "      <th>Outcome</th>\n",
       "    </tr>\n",
       "  </thead>\n",
       "  <tbody>\n",
       "    <tr>\n",
       "      <th>0</th>\n",
       "      <td>6</td>\n",
       "      <td>148</td>\n",
       "      <td>72</td>\n",
       "      <td>35</td>\n",
       "      <td>0</td>\n",
       "      <td>33.6</td>\n",
       "      <td>0.627</td>\n",
       "      <td>50</td>\n",
       "      <td>1</td>\n",
       "    </tr>\n",
       "    <tr>\n",
       "      <th>1</th>\n",
       "      <td>1</td>\n",
       "      <td>85</td>\n",
       "      <td>66</td>\n",
       "      <td>29</td>\n",
       "      <td>0</td>\n",
       "      <td>26.6</td>\n",
       "      <td>0.351</td>\n",
       "      <td>31</td>\n",
       "      <td>0</td>\n",
       "    </tr>\n",
       "    <tr>\n",
       "      <th>2</th>\n",
       "      <td>8</td>\n",
       "      <td>183</td>\n",
       "      <td>64</td>\n",
       "      <td>0</td>\n",
       "      <td>0</td>\n",
       "      <td>23.3</td>\n",
       "      <td>0.672</td>\n",
       "      <td>32</td>\n",
       "      <td>1</td>\n",
       "    </tr>\n",
       "    <tr>\n",
       "      <th>3</th>\n",
       "      <td>1</td>\n",
       "      <td>89</td>\n",
       "      <td>66</td>\n",
       "      <td>23</td>\n",
       "      <td>94</td>\n",
       "      <td>28.1</td>\n",
       "      <td>0.167</td>\n",
       "      <td>21</td>\n",
       "      <td>0</td>\n",
       "    </tr>\n",
       "    <tr>\n",
       "      <th>4</th>\n",
       "      <td>0</td>\n",
       "      <td>137</td>\n",
       "      <td>40</td>\n",
       "      <td>35</td>\n",
       "      <td>168</td>\n",
       "      <td>43.1</td>\n",
       "      <td>2.288</td>\n",
       "      <td>33</td>\n",
       "      <td>1</td>\n",
       "    </tr>\n",
       "  </tbody>\n",
       "</table>\n",
       "</div>"
      ],
      "text/plain": [
       "   Pregnancies  Glucose  BloodPressure  SkinThickness  Insulin   BMI  \\\n",
       "0            6      148             72             35        0  33.6   \n",
       "1            1       85             66             29        0  26.6   \n",
       "2            8      183             64              0        0  23.3   \n",
       "3            1       89             66             23       94  28.1   \n",
       "4            0      137             40             35      168  43.1   \n",
       "\n",
       "   DiabetesPedigreeFunction  Age  Outcome  \n",
       "0                     0.627   50        1  \n",
       "1                     0.351   31        0  \n",
       "2                     0.672   32        1  \n",
       "3                     0.167   21        0  \n",
       "4                     2.288   33        1  "
      ]
     },
     "execution_count": 38,
     "metadata": {},
     "output_type": "execute_result"
    }
   ],
   "source": [
    "data.duplicated()\n",
    "data=data.drop_duplicates()\n",
    "data.head()"
   ]
  },
  {
   "cell_type": "code",
   "execution_count": 39,
   "id": "6b81381a-ca85-4c01-84c0-3272ed0f5026",
   "metadata": {},
   "outputs": [
    {
     "data": {
      "text/html": [
       "<div>\n",
       "<style scoped>\n",
       "    .dataframe tbody tr th:only-of-type {\n",
       "        vertical-align: middle;\n",
       "    }\n",
       "\n",
       "    .dataframe tbody tr th {\n",
       "        vertical-align: top;\n",
       "    }\n",
       "\n",
       "    .dataframe thead th {\n",
       "        text-align: right;\n",
       "    }\n",
       "</style>\n",
       "<table border=\"1\" class=\"dataframe\">\n",
       "  <thead>\n",
       "    <tr style=\"text-align: right;\">\n",
       "      <th></th>\n",
       "      <th>Pregnancies</th>\n",
       "      <th>Glucose</th>\n",
       "      <th>BloodPressure</th>\n",
       "      <th>SkinThickness</th>\n",
       "      <th>Insulin</th>\n",
       "      <th>BMI</th>\n",
       "      <th>DiabetesPedigreeFunction</th>\n",
       "      <th>Age</th>\n",
       "      <th>Outcome</th>\n",
       "    </tr>\n",
       "  </thead>\n",
       "  <tbody>\n",
       "    <tr>\n",
       "      <th>count</th>\n",
       "      <td>768.000000</td>\n",
       "      <td>768.000000</td>\n",
       "      <td>768.000000</td>\n",
       "      <td>768.000000</td>\n",
       "      <td>768.000000</td>\n",
       "      <td>768.000000</td>\n",
       "      <td>768.000000</td>\n",
       "      <td>768.000000</td>\n",
       "      <td>768.000000</td>\n",
       "    </tr>\n",
       "    <tr>\n",
       "      <th>mean</th>\n",
       "      <td>3.845052</td>\n",
       "      <td>120.894531</td>\n",
       "      <td>69.105469</td>\n",
       "      <td>20.536458</td>\n",
       "      <td>79.799479</td>\n",
       "      <td>31.992578</td>\n",
       "      <td>0.471876</td>\n",
       "      <td>33.240885</td>\n",
       "      <td>0.348958</td>\n",
       "    </tr>\n",
       "    <tr>\n",
       "      <th>std</th>\n",
       "      <td>3.369578</td>\n",
       "      <td>31.972618</td>\n",
       "      <td>19.355807</td>\n",
       "      <td>15.952218</td>\n",
       "      <td>115.244002</td>\n",
       "      <td>7.884160</td>\n",
       "      <td>0.331329</td>\n",
       "      <td>11.760232</td>\n",
       "      <td>0.476951</td>\n",
       "    </tr>\n",
       "    <tr>\n",
       "      <th>min</th>\n",
       "      <td>0.000000</td>\n",
       "      <td>0.000000</td>\n",
       "      <td>0.000000</td>\n",
       "      <td>0.000000</td>\n",
       "      <td>0.000000</td>\n",
       "      <td>0.000000</td>\n",
       "      <td>0.078000</td>\n",
       "      <td>21.000000</td>\n",
       "      <td>0.000000</td>\n",
       "    </tr>\n",
       "    <tr>\n",
       "      <th>25%</th>\n",
       "      <td>1.000000</td>\n",
       "      <td>99.000000</td>\n",
       "      <td>62.000000</td>\n",
       "      <td>0.000000</td>\n",
       "      <td>0.000000</td>\n",
       "      <td>27.300000</td>\n",
       "      <td>0.243750</td>\n",
       "      <td>24.000000</td>\n",
       "      <td>0.000000</td>\n",
       "    </tr>\n",
       "    <tr>\n",
       "      <th>50%</th>\n",
       "      <td>3.000000</td>\n",
       "      <td>117.000000</td>\n",
       "      <td>72.000000</td>\n",
       "      <td>23.000000</td>\n",
       "      <td>30.500000</td>\n",
       "      <td>32.000000</td>\n",
       "      <td>0.372500</td>\n",
       "      <td>29.000000</td>\n",
       "      <td>0.000000</td>\n",
       "    </tr>\n",
       "    <tr>\n",
       "      <th>75%</th>\n",
       "      <td>6.000000</td>\n",
       "      <td>140.250000</td>\n",
       "      <td>80.000000</td>\n",
       "      <td>32.000000</td>\n",
       "      <td>127.250000</td>\n",
       "      <td>36.600000</td>\n",
       "      <td>0.626250</td>\n",
       "      <td>41.000000</td>\n",
       "      <td>1.000000</td>\n",
       "    </tr>\n",
       "    <tr>\n",
       "      <th>max</th>\n",
       "      <td>17.000000</td>\n",
       "      <td>199.000000</td>\n",
       "      <td>122.000000</td>\n",
       "      <td>99.000000</td>\n",
       "      <td>846.000000</td>\n",
       "      <td>67.100000</td>\n",
       "      <td>2.420000</td>\n",
       "      <td>81.000000</td>\n",
       "      <td>1.000000</td>\n",
       "    </tr>\n",
       "  </tbody>\n",
       "</table>\n",
       "</div>"
      ],
      "text/plain": [
       "       Pregnancies     Glucose  BloodPressure  SkinThickness     Insulin  \\\n",
       "count   768.000000  768.000000     768.000000     768.000000  768.000000   \n",
       "mean      3.845052  120.894531      69.105469      20.536458   79.799479   \n",
       "std       3.369578   31.972618      19.355807      15.952218  115.244002   \n",
       "min       0.000000    0.000000       0.000000       0.000000    0.000000   \n",
       "25%       1.000000   99.000000      62.000000       0.000000    0.000000   \n",
       "50%       3.000000  117.000000      72.000000      23.000000   30.500000   \n",
       "75%       6.000000  140.250000      80.000000      32.000000  127.250000   \n",
       "max      17.000000  199.000000     122.000000      99.000000  846.000000   \n",
       "\n",
       "              BMI  DiabetesPedigreeFunction         Age     Outcome  \n",
       "count  768.000000                768.000000  768.000000  768.000000  \n",
       "mean    31.992578                  0.471876   33.240885    0.348958  \n",
       "std      7.884160                  0.331329   11.760232    0.476951  \n",
       "min      0.000000                  0.078000   21.000000    0.000000  \n",
       "25%     27.300000                  0.243750   24.000000    0.000000  \n",
       "50%     32.000000                  0.372500   29.000000    0.000000  \n",
       "75%     36.600000                  0.626250   41.000000    1.000000  \n",
       "max     67.100000                  2.420000   81.000000    1.000000  "
      ]
     },
     "execution_count": 39,
     "metadata": {},
     "output_type": "execute_result"
    }
   ],
   "source": [
    "data.describe()"
   ]
  },
  {
   "cell_type": "code",
   "execution_count": 40,
   "id": "49e59dd2-f20f-4864-af43-71c28bd0a9bf",
   "metadata": {},
   "outputs": [
    {
     "name": "stdout",
     "output_type": "stream",
     "text": [
      "Pregnancies0      0.639947\n",
      "1      0.844885\n",
      "2      1.233880\n",
      "3      0.844885\n",
      "4      1.141852\n",
      "         ...   \n",
      "763    1.827813\n",
      "764    0.547919\n",
      "765    0.342981\n",
      "766    0.844885\n",
      "767    0.844885\n",
      "Name: Pregnancies, Length: 768, dtype: float64\n",
      "Glucose0      0.848324\n",
      "1      1.123396\n",
      "2      1.943724\n",
      "3      0.998208\n",
      "4      0.504055\n",
      "         ...   \n",
      "763    0.622642\n",
      "764    0.034598\n",
      "765    0.003301\n",
      "766    0.159787\n",
      "767    0.873019\n",
      "Name: Glucose, Length: 768, dtype: float64\n",
      "BloodPressure0      0.149641\n",
      "1      0.160546\n",
      "2      0.263941\n",
      "3      0.160546\n",
      "4      1.504687\n",
      "         ...   \n",
      "763    0.356432\n",
      "764    0.046245\n",
      "765    0.149641\n",
      "766    0.470732\n",
      "767    0.046245\n",
      "Name: BloodPressure, Length: 768, dtype: float64\n",
      "SkinThickness0      0.907270\n",
      "1      0.530902\n",
      "2      1.288212\n",
      "3      0.154533\n",
      "4      0.907270\n",
      "         ...   \n",
      "763    1.722735\n",
      "764    0.405445\n",
      "765    0.154533\n",
      "766    1.288212\n",
      "767    0.656358\n",
      "Name: SkinThickness, Length: 768, dtype: float64\n",
      "Insulin0      0.692891\n",
      "1      0.692891\n",
      "2      0.692891\n",
      "3      0.123302\n",
      "4      0.765836\n",
      "         ...   \n",
      "763    0.870031\n",
      "764    0.692891\n",
      "765    0.279594\n",
      "766    0.692891\n",
      "767    0.692891\n",
      "Name: Insulin, Length: 768, dtype: float64\n",
      "BMI0      0.204013\n",
      "1      0.684422\n",
      "2      1.103255\n",
      "3      0.494043\n",
      "4      1.409746\n",
      "         ...   \n",
      "763    0.115169\n",
      "764    0.610154\n",
      "765    0.735190\n",
      "766    0.240205\n",
      "767    0.202129\n",
      "Name: BMI, Length: 768, dtype: float64\n",
      "DiabetesPedigreeFunction0      0.468492\n",
      "1      0.365061\n",
      "2      0.604397\n",
      "3      0.920763\n",
      "4      5.484909\n",
      "         ...   \n",
      "763    0.908682\n",
      "764    0.398282\n",
      "765    0.685193\n",
      "766    0.371101\n",
      "767    0.473785\n",
      "Name: DiabetesPedigreeFunction, Length: 768, dtype: float64\n",
      "Age0      1.425995\n",
      "1      0.190672\n",
      "2      0.105584\n",
      "3      1.041549\n",
      "4      0.020496\n",
      "         ...   \n",
      "763    2.532136\n",
      "764    0.531023\n",
      "765    0.275760\n",
      "766    1.170732\n",
      "767    0.871374\n",
      "Name: Age, Length: 768, dtype: float64\n",
      "Outcome0      1.365896\n",
      "1      0.732120\n",
      "2      1.365896\n",
      "3      0.732120\n",
      "4      1.365896\n",
      "         ...   \n",
      "763    0.732120\n",
      "764    0.732120\n",
      "765    0.732120\n",
      "766    1.365896\n",
      "767    0.732120\n",
      "Name: Outcome, Length: 768, dtype: float64\n"
     ]
    }
   ],
   "source": [
    "for x in data.columns:\n",
    "    z=np.abs(stats.zscore(data[x]))\n",
    "    print(x+str(z))"
   ]
  },
  {
   "cell_type": "code",
   "execution_count": 41,
   "id": "22239cca-940a-489c-85d7-2b600f1d883d",
   "metadata": {},
   "outputs": [
    {
     "data": {
      "text/html": [
       "<div>\n",
       "<style scoped>\n",
       "    .dataframe tbody tr th:only-of-type {\n",
       "        vertical-align: middle;\n",
       "    }\n",
       "\n",
       "    .dataframe tbody tr th {\n",
       "        vertical-align: top;\n",
       "    }\n",
       "\n",
       "    .dataframe thead th {\n",
       "        text-align: right;\n",
       "    }\n",
       "</style>\n",
       "<table border=\"1\" class=\"dataframe\">\n",
       "  <thead>\n",
       "    <tr style=\"text-align: right;\">\n",
       "      <th></th>\n",
       "      <th>Pregnancies</th>\n",
       "      <th>Glucose</th>\n",
       "      <th>BloodPressure</th>\n",
       "      <th>SkinThickness</th>\n",
       "      <th>Insulin</th>\n",
       "      <th>BMI</th>\n",
       "      <th>DiabetesPedigreeFunction</th>\n",
       "      <th>Age</th>\n",
       "      <th>Outcome</th>\n",
       "    </tr>\n",
       "  </thead>\n",
       "  <tbody>\n",
       "    <tr>\n",
       "      <th>0</th>\n",
       "      <td>0.352941</td>\n",
       "      <td>0.743719</td>\n",
       "      <td>0.590164</td>\n",
       "      <td>0.353535</td>\n",
       "      <td>0.000000</td>\n",
       "      <td>0.500745</td>\n",
       "      <td>0.234415</td>\n",
       "      <td>0.483333</td>\n",
       "      <td>1.0</td>\n",
       "    </tr>\n",
       "    <tr>\n",
       "      <th>1</th>\n",
       "      <td>0.058824</td>\n",
       "      <td>0.427136</td>\n",
       "      <td>0.540984</td>\n",
       "      <td>0.292929</td>\n",
       "      <td>0.000000</td>\n",
       "      <td>0.396423</td>\n",
       "      <td>0.116567</td>\n",
       "      <td>0.166667</td>\n",
       "      <td>0.0</td>\n",
       "    </tr>\n",
       "    <tr>\n",
       "      <th>2</th>\n",
       "      <td>0.470588</td>\n",
       "      <td>0.919598</td>\n",
       "      <td>0.524590</td>\n",
       "      <td>0.000000</td>\n",
       "      <td>0.000000</td>\n",
       "      <td>0.347243</td>\n",
       "      <td>0.253629</td>\n",
       "      <td>0.183333</td>\n",
       "      <td>1.0</td>\n",
       "    </tr>\n",
       "    <tr>\n",
       "      <th>3</th>\n",
       "      <td>0.058824</td>\n",
       "      <td>0.447236</td>\n",
       "      <td>0.540984</td>\n",
       "      <td>0.232323</td>\n",
       "      <td>0.111111</td>\n",
       "      <td>0.418778</td>\n",
       "      <td>0.038002</td>\n",
       "      <td>0.000000</td>\n",
       "      <td>0.0</td>\n",
       "    </tr>\n",
       "    <tr>\n",
       "      <th>4</th>\n",
       "      <td>0.000000</td>\n",
       "      <td>0.688442</td>\n",
       "      <td>0.327869</td>\n",
       "      <td>0.353535</td>\n",
       "      <td>0.198582</td>\n",
       "      <td>0.642325</td>\n",
       "      <td>0.943638</td>\n",
       "      <td>0.200000</td>\n",
       "      <td>1.0</td>\n",
       "    </tr>\n",
       "  </tbody>\n",
       "</table>\n",
       "</div>"
      ],
      "text/plain": [
       "   Pregnancies   Glucose  BloodPressure  SkinThickness   Insulin       BMI  \\\n",
       "0     0.352941  0.743719       0.590164       0.353535  0.000000  0.500745   \n",
       "1     0.058824  0.427136       0.540984       0.292929  0.000000  0.396423   \n",
       "2     0.470588  0.919598       0.524590       0.000000  0.000000  0.347243   \n",
       "3     0.058824  0.447236       0.540984       0.232323  0.111111  0.418778   \n",
       "4     0.000000  0.688442       0.327869       0.353535  0.198582  0.642325   \n",
       "\n",
       "   DiabetesPedigreeFunction       Age  Outcome  \n",
       "0                  0.234415  0.483333      1.0  \n",
       "1                  0.116567  0.166667      0.0  \n",
       "2                  0.253629  0.183333      1.0  \n",
       "3                  0.038002  0.000000      0.0  \n",
       "4                  0.943638  0.200000      1.0  "
      ]
     },
     "execution_count": 41,
     "metadata": {},
     "output_type": "execute_result"
    }
   ],
   "source": [
    "data_norm=data.copy()\n",
    "for column in data.columns:\n",
    "    data_norm[column] = (data_norm[column] - data_norm[column].min()) / (data_norm[column].max() - data_norm[column].min()) \n",
    "data_norm.head()"
   ]
  },
  {
   "cell_type": "code",
   "execution_count": 42,
   "id": "447eeaaf-3005-42ed-9dbf-57790d9f4cb9",
   "metadata": {},
   "outputs": [
    {
     "data": {
      "text/html": [
       "<div>\n",
       "<style scoped>\n",
       "    .dataframe tbody tr th:only-of-type {\n",
       "        vertical-align: middle;\n",
       "    }\n",
       "\n",
       "    .dataframe tbody tr th {\n",
       "        vertical-align: top;\n",
       "    }\n",
       "\n",
       "    .dataframe thead th {\n",
       "        text-align: right;\n",
       "    }\n",
       "</style>\n",
       "<table border=\"1\" class=\"dataframe\">\n",
       "  <thead>\n",
       "    <tr style=\"text-align: right;\">\n",
       "      <th></th>\n",
       "      <th>Pregnancies</th>\n",
       "      <th>Glucose</th>\n",
       "      <th>BloodPressure</th>\n",
       "      <th>SkinThickness</th>\n",
       "      <th>Insulin</th>\n",
       "      <th>BMI</th>\n",
       "      <th>DiabetesPedigreeFunction</th>\n",
       "      <th>Age</th>\n",
       "      <th>Outcome</th>\n",
       "    </tr>\n",
       "  </thead>\n",
       "  <tbody>\n",
       "    <tr>\n",
       "      <th>0</th>\n",
       "      <td>0.639530</td>\n",
       "      <td>0.847771</td>\n",
       "      <td>0.149543</td>\n",
       "      <td>0.906679</td>\n",
       "      <td>-0.692439</td>\n",
       "      <td>0.203880</td>\n",
       "      <td>0.468187</td>\n",
       "      <td>1.425067</td>\n",
       "      <td>1</td>\n",
       "    </tr>\n",
       "    <tr>\n",
       "      <th>1</th>\n",
       "      <td>-0.844335</td>\n",
       "      <td>-1.122665</td>\n",
       "      <td>-0.160441</td>\n",
       "      <td>0.530556</td>\n",
       "      <td>-0.692439</td>\n",
       "      <td>-0.683976</td>\n",
       "      <td>-0.364823</td>\n",
       "      <td>-0.190548</td>\n",
       "      <td>0</td>\n",
       "    </tr>\n",
       "    <tr>\n",
       "      <th>2</th>\n",
       "      <td>1.233077</td>\n",
       "      <td>1.942458</td>\n",
       "      <td>-0.263769</td>\n",
       "      <td>-1.287373</td>\n",
       "      <td>-0.692439</td>\n",
       "      <td>-1.102537</td>\n",
       "      <td>0.604004</td>\n",
       "      <td>-0.105515</td>\n",
       "      <td>1</td>\n",
       "    </tr>\n",
       "    <tr>\n",
       "      <th>3</th>\n",
       "      <td>-0.844335</td>\n",
       "      <td>-0.997558</td>\n",
       "      <td>-0.160441</td>\n",
       "      <td>0.154433</td>\n",
       "      <td>0.123221</td>\n",
       "      <td>-0.493721</td>\n",
       "      <td>-0.920163</td>\n",
       "      <td>-1.040871</td>\n",
       "      <td>0</td>\n",
       "    </tr>\n",
       "    <tr>\n",
       "      <th>4</th>\n",
       "      <td>-1.141108</td>\n",
       "      <td>0.503727</td>\n",
       "      <td>-1.503707</td>\n",
       "      <td>0.906679</td>\n",
       "      <td>0.765337</td>\n",
       "      <td>1.408828</td>\n",
       "      <td>5.481337</td>\n",
       "      <td>-0.020483</td>\n",
       "      <td>1</td>\n",
       "    </tr>\n",
       "  </tbody>\n",
       "</table>\n",
       "</div>"
      ],
      "text/plain": [
       "   Pregnancies   Glucose  BloodPressure  SkinThickness   Insulin       BMI  \\\n",
       "0     0.639530  0.847771       0.149543       0.906679 -0.692439  0.203880   \n",
       "1    -0.844335 -1.122665      -0.160441       0.530556 -0.692439 -0.683976   \n",
       "2     1.233077  1.942458      -0.263769      -1.287373 -0.692439 -1.102537   \n",
       "3    -0.844335 -0.997558      -0.160441       0.154433  0.123221 -0.493721   \n",
       "4    -1.141108  0.503727      -1.503707       0.906679  0.765337  1.408828   \n",
       "\n",
       "   DiabetesPedigreeFunction       Age  Outcome  \n",
       "0                  0.468187  1.425067        1  \n",
       "1                 -0.364823 -0.190548        0  \n",
       "2                  0.604004 -0.105515        1  \n",
       "3                 -0.920163 -1.040871        0  \n",
       "4                  5.481337 -0.020483        1  "
      ]
     },
     "execution_count": 42,
     "metadata": {},
     "output_type": "execute_result"
    }
   ],
   "source": [
    "lis=['Glucose','BloodPressure','SkinThickness','Insulin','BMI','DiabetesPedigreeFunction','Age','Pregnancies']\n",
    "def standartization(x):\n",
    "    x_std = x.copy(deep=True)\n",
    "    for column in lis:\n",
    "        x_std[column] = (x_std[column] - x_std[column].mean()) / x_std[column].std() \n",
    "    return x_std\n",
    "\n",
    "data= standartization(data)\n",
    "data.head()"
   ]
  },
  {
   "cell_type": "code",
   "execution_count": 43,
   "id": "2bc8759f-813b-412d-bdfc-a5a5f68050fd",
   "metadata": {},
   "outputs": [
    {
     "name": "stdout",
     "output_type": "stream",
     "text": [
      "<class 'pandas.core.frame.DataFrame'>\n",
      "Int64Index: 768 entries, 0 to 767\n",
      "Data columns (total 9 columns):\n",
      " #   Column                    Non-Null Count  Dtype  \n",
      "---  ------                    --------------  -----  \n",
      " 0   Pregnancies               768 non-null    float64\n",
      " 1   Glucose                   768 non-null    float64\n",
      " 2   BloodPressure             768 non-null    float64\n",
      " 3   SkinThickness             768 non-null    float64\n",
      " 4   Insulin                   768 non-null    float64\n",
      " 5   BMI                       768 non-null    float64\n",
      " 6   DiabetesPedigreeFunction  768 non-null    float64\n",
      " 7   Age                       768 non-null    float64\n",
      " 8   Outcome                   768 non-null    int64  \n",
      "dtypes: float64(8), int64(1)\n",
      "memory usage: 60.0 KB\n"
     ]
    }
   ],
   "source": [
    "data.info()"
   ]
  },
  {
   "cell_type": "code",
   "execution_count": 44,
   "id": "3de80b4c-ce10-4085-bad2-e562f57b5619",
   "metadata": {},
   "outputs": [
    {
     "data": {
      "text/plain": [
       "0    500\n",
       "1    268\n",
       "Name: Outcome, dtype: int64"
      ]
     },
     "execution_count": 44,
     "metadata": {},
     "output_type": "execute_result"
    }
   ],
   "source": [
    "data['Outcome'].value_counts()"
   ]
  },
  {
   "cell_type": "code",
   "execution_count": 45,
   "id": "07349411-6f7e-466a-8475-c986af9ccea8",
   "metadata": {},
   "outputs": [],
   "source": [
    "y=data['Outcome']\n",
    "x=data.drop(['Outcome'],axis=1)"
   ]
  },
  {
   "cell_type": "code",
   "execution_count": 46,
   "id": "0a9c00bb-f602-4fb7-8897-6d85e8eb38bf",
   "metadata": {},
   "outputs": [],
   "source": [
    "yn=data_norm['Outcome']\n",
    "xn=data_norm.drop(['Outcome'],axis=1)"
   ]
  },
  {
   "cell_type": "code",
   "execution_count": 47,
   "id": "ea00e8fc-70cd-4dbc-9635-6d1641c178a8",
   "metadata": {},
   "outputs": [
    {
     "name": "stdout",
     "output_type": "stream",
     "text": [
      "(652, 8)\n",
      "(116, 8)\n",
      "(652,)\n",
      "(116,)\n"
     ]
    }
   ],
   "source": [
    "from sklearn.model_selection import train_test_split\n",
    "xtrain,xtest,ytrain,ytest= train_test_split(x,y,test_size=0.15,stratify=y)\n",
    "print(xtrain.shape)\n",
    "print(xtest.shape)\n",
    "print(ytrain.shape)\n",
    "print(ytest.shape)"
   ]
  },
  {
   "cell_type": "code",
   "execution_count": 48,
   "id": "96c2d755-e2c6-4f00-b616-8a8812b4ed3a",
   "metadata": {},
   "outputs": [
    {
     "name": "stdout",
     "output_type": "stream",
     "text": [
      "(652, 8)\n",
      "(116, 8)\n",
      "(652,)\n",
      "(116,)\n"
     ]
    }
   ],
   "source": [
    "from sklearn.model_selection import train_test_split\n",
    "xntrain,xntest,yntrain,yntest= train_test_split(xn,yn,test_size=0.15,stratify=y)\n",
    "print(xntrain.shape)\n",
    "print(xntest.shape)\n",
    "print(yntrain.shape)\n",
    "print(yntest.shape)"
   ]
  },
  {
   "cell_type": "code",
   "execution_count": 49,
   "id": "c93ab6d3-a7cf-4dcd-b4b7-937778e112cc",
   "metadata": {},
   "outputs": [
    {
     "data": {
      "text/html": [
       "<style>#sk-container-id-3 {color: black;background-color: white;}#sk-container-id-3 pre{padding: 0;}#sk-container-id-3 div.sk-toggleable {background-color: white;}#sk-container-id-3 label.sk-toggleable__label {cursor: pointer;display: block;width: 100%;margin-bottom: 0;padding: 0.3em;box-sizing: border-box;text-align: center;}#sk-container-id-3 label.sk-toggleable__label-arrow:before {content: \"▸\";float: left;margin-right: 0.25em;color: #696969;}#sk-container-id-3 label.sk-toggleable__label-arrow:hover:before {color: black;}#sk-container-id-3 div.sk-estimator:hover label.sk-toggleable__label-arrow:before {color: black;}#sk-container-id-3 div.sk-toggleable__content {max-height: 0;max-width: 0;overflow: hidden;text-align: left;background-color: #f0f8ff;}#sk-container-id-3 div.sk-toggleable__content pre {margin: 0.2em;color: black;border-radius: 0.25em;background-color: #f0f8ff;}#sk-container-id-3 input.sk-toggleable__control:checked~div.sk-toggleable__content {max-height: 200px;max-width: 100%;overflow: auto;}#sk-container-id-3 input.sk-toggleable__control:checked~label.sk-toggleable__label-arrow:before {content: \"▾\";}#sk-container-id-3 div.sk-estimator input.sk-toggleable__control:checked~label.sk-toggleable__label {background-color: #d4ebff;}#sk-container-id-3 div.sk-label input.sk-toggleable__control:checked~label.sk-toggleable__label {background-color: #d4ebff;}#sk-container-id-3 input.sk-hidden--visually {border: 0;clip: rect(1px 1px 1px 1px);clip: rect(1px, 1px, 1px, 1px);height: 1px;margin: -1px;overflow: hidden;padding: 0;position: absolute;width: 1px;}#sk-container-id-3 div.sk-estimator {font-family: monospace;background-color: #f0f8ff;border: 1px dotted black;border-radius: 0.25em;box-sizing: border-box;margin-bottom: 0.5em;}#sk-container-id-3 div.sk-estimator:hover {background-color: #d4ebff;}#sk-container-id-3 div.sk-parallel-item::after {content: \"\";width: 100%;border-bottom: 1px solid gray;flex-grow: 1;}#sk-container-id-3 div.sk-label:hover label.sk-toggleable__label {background-color: #d4ebff;}#sk-container-id-3 div.sk-serial::before {content: \"\";position: absolute;border-left: 1px solid gray;box-sizing: border-box;top: 0;bottom: 0;left: 50%;z-index: 0;}#sk-container-id-3 div.sk-serial {display: flex;flex-direction: column;align-items: center;background-color: white;padding-right: 0.2em;padding-left: 0.2em;position: relative;}#sk-container-id-3 div.sk-item {position: relative;z-index: 1;}#sk-container-id-3 div.sk-parallel {display: flex;align-items: stretch;justify-content: center;background-color: white;position: relative;}#sk-container-id-3 div.sk-item::before, #sk-container-id-3 div.sk-parallel-item::before {content: \"\";position: absolute;border-left: 1px solid gray;box-sizing: border-box;top: 0;bottom: 0;left: 50%;z-index: -1;}#sk-container-id-3 div.sk-parallel-item {display: flex;flex-direction: column;z-index: 1;position: relative;background-color: white;}#sk-container-id-3 div.sk-parallel-item:first-child::after {align-self: flex-end;width: 50%;}#sk-container-id-3 div.sk-parallel-item:last-child::after {align-self: flex-start;width: 50%;}#sk-container-id-3 div.sk-parallel-item:only-child::after {width: 0;}#sk-container-id-3 div.sk-dashed-wrapped {border: 1px dashed gray;margin: 0 0.4em 0.5em 0.4em;box-sizing: border-box;padding-bottom: 0.4em;background-color: white;}#sk-container-id-3 div.sk-label label {font-family: monospace;font-weight: bold;display: inline-block;line-height: 1.2em;}#sk-container-id-3 div.sk-label-container {text-align: center;}#sk-container-id-3 div.sk-container {/* jupyter's `normalize.less` sets `[hidden] { display: none; }` but bootstrap.min.css set `[hidden] { display: none !important; }` so we also need the `!important` here to be able to override the default hidden behavior on the sphinx rendered scikit-learn.org. See: https://github.com/scikit-learn/scikit-learn/issues/21755 */display: inline-block !important;position: relative;}#sk-container-id-3 div.sk-text-repr-fallback {display: none;}</style><div id=\"sk-container-id-3\" class=\"sk-top-container\"><div class=\"sk-text-repr-fallback\"><pre>SVC(gamma=8)</pre><b>In a Jupyter environment, please rerun this cell to show the HTML representation or trust the notebook. <br />On GitHub, the HTML representation is unable to render, please try loading this page with nbviewer.org.</b></div><div class=\"sk-container\" hidden><div class=\"sk-item\"><div class=\"sk-estimator sk-toggleable\"><input class=\"sk-toggleable__control sk-hidden--visually\" id=\"sk-estimator-id-3\" type=\"checkbox\" checked><label for=\"sk-estimator-id-3\" class=\"sk-toggleable__label sk-toggleable__label-arrow\">SVC</label><div class=\"sk-toggleable__content\"><pre>SVC(gamma=8)</pre></div></div></div></div></div>"
      ],
      "text/plain": [
       "SVC(gamma=8)"
      ]
     },
     "execution_count": 49,
     "metadata": {},
     "output_type": "execute_result"
    }
   ],
   "source": [
    "from sklearn.svm import SVC\n",
    "svm_model= SVC(kernel='rbf',gamma=8)\n",
    "svm_model.fit(xntrain,yntrain)"
   ]
  },
  {
   "cell_type": "code",
   "execution_count": 53,
   "id": "fe93ac94-769a-483b-a3d3-572cc56cd87d",
   "metadata": {},
   "outputs": [
    {
     "name": "stdout",
     "output_type": "stream",
     "text": [
      "training accuracy = 84.8159509202454\n",
      "testing accuracy = 85.34482758620689\n"
     ]
    }
   ],
   "source": [
    "from sklearn.metrics import accuracy_score, confusion_matrix, classification_report\n",
    "predictions= svm_model.predict(xntrain)\n",
    "percentage=svm_model.score(xntrain,yntrain)\n",
    "res=confusion_matrix(yntrain,predictions)\n",
    "# print(\"Training confusion matrix\")\n",
    "# print(res)\n",
    "predictions= svm_model.predict(xntest)\n",
    "percentage=svm_model.score(xntest,yntest)\n",
    "res=confusion_matrix(yntest,predictions)\n",
    "# print(\"validation confusion matrix\")\n",
    "# print(res)\n",
    "# print(classification_report(ytest, predictions))\n",
    "# check the accuracy on the training set\n",
    "print('training accuracy = '+str(svm_model.score(xntrain, yntrain)*100))\n",
    "print('testing accuracy = '+str(svm_model.score(xntest, yntest)*100))"
   ]
  },
  {
   "cell_type": "code",
   "execution_count": 51,
   "id": "106f1758-964d-41ab-a225-0376cdd06109",
   "metadata": {},
   "outputs": [
    {
     "ename": "ModuleNotFoundError",
     "evalue": "No module named 'tensorflow'",
     "output_type": "error",
     "traceback": [
      "\u001b[1;31m---------------------------------------------------------------------------\u001b[0m",
      "\u001b[1;31mModuleNotFoundError\u001b[0m                       Traceback (most recent call last)",
      "\u001b[1;32mc:\\Clg_assignments\\DM_Project\\New Algo\\93% test acc- data cleaning+sampling+ ANN.ipynb Cell 17\u001b[0m in \u001b[0;36m<cell line: 1>\u001b[1;34m()\u001b[0m\n\u001b[1;32m----> <a href='vscode-notebook-cell:/c%3A/Clg_assignments/DM_Project/New%20Algo/93%25%20test%20acc-%20data%20cleaning%2Bsampling%2B%20ANN.ipynb#X22sZmlsZQ%3D%3D?line=0'>1</a>\u001b[0m \u001b[39mimport\u001b[39;00m \u001b[39mtensorflow\u001b[39;00m \u001b[39mas\u001b[39;00m \u001b[39mtf\u001b[39;00m\n\u001b[0;32m      <a href='vscode-notebook-cell:/c%3A/Clg_assignments/DM_Project/New%20Algo/93%25%20test%20acc-%20data%20cleaning%2Bsampling%2B%20ANN.ipynb#X22sZmlsZQ%3D%3D?line=1'>2</a>\u001b[0m \u001b[39mfrom\u001b[39;00m \u001b[39mtensorflow\u001b[39;00m\u001b[39m.\u001b[39;00m\u001b[39mkeras\u001b[39;00m \u001b[39mimport\u001b[39;00m Sequential\n\u001b[0;32m      <a href='vscode-notebook-cell:/c%3A/Clg_assignments/DM_Project/New%20Algo/93%25%20test%20acc-%20data%20cleaning%2Bsampling%2B%20ANN.ipynb#X22sZmlsZQ%3D%3D?line=2'>3</a>\u001b[0m \u001b[39mfrom\u001b[39;00m \u001b[39mtensorflow\u001b[39;00m\u001b[39m.\u001b[39;00m\u001b[39mkeras\u001b[39;00m\u001b[39m.\u001b[39;00m\u001b[39mlayers\u001b[39;00m \u001b[39mimport\u001b[39;00m Dense, Dropout\n",
      "\u001b[1;31mModuleNotFoundError\u001b[0m: No module named 'tensorflow'"
     ]
    }
   ],
   "source": [
    "import tensorflow as tf\n",
    "from tensorflow.keras import Sequential\n",
    "from tensorflow.keras.layers import Dense, Dropout\n",
    "dl_model = Sequential() \n",
    "\n",
    "dl_model.add(Dense(256,  activation = 'relu' ,input_shape=([8]))) #input layer\n",
    "dl_model.add(Dense(256,  activation = 'relu'))\n",
    "dl_model.add(Dense(1,activation = 'sigmoid'))\n",
    "dl_model.summary()\n",
    "dl_model.compile(optimizer = 'adam' , loss = 'binary_crossentropy' ,metrics = ['accuracy','Precision','Recall','AUC'])"
   ]
  },
  {
   "cell_type": "code",
   "execution_count": null,
   "id": "8eda7298-bf9f-480e-acd2-d96a11467886",
   "metadata": {},
   "outputs": [
    {
     "name": "stdout",
     "output_type": "stream",
     "text": [
      "Epoch 1/50\n",
      "200/200 [==============================] - 1s 4ms/step - loss: 0.5043 - accuracy: 0.7600 - precision: 0.6783 - recall: 0.5693 - auc: 0.8054 - val_loss: 0.4606 - val_accuracy: 0.7845 - val_precision: 0.6923 - val_recall: 0.6750 - val_auc: 0.8520\n",
      "Epoch 2/50\n",
      "200/200 [==============================] - 0s 2ms/step - loss: 0.4741 - accuracy: 0.7700 - precision: 0.7016 - recall: 0.6285 - auc: 0.8355 - val_loss: 0.4715 - val_accuracy: 0.7845 - val_precision: 0.7027 - val_recall: 0.6500 - val_auc: 0.8457\n",
      "Epoch 3/50\n",
      "200/200 [==============================] - 1s 3ms/step - loss: 0.4469 - accuracy: 0.7750 - precision: 0.7004 - recall: 0.6201 - auc: 0.8513 - val_loss: 0.4625 - val_accuracy: 0.8017 - val_precision: 0.7297 - val_recall: 0.6750 - val_auc: 0.8513\n",
      "Epoch 4/50\n",
      "200/200 [==============================] - 0s 2ms/step - loss: 0.4191 - accuracy: 0.8000 - precision: 0.7426 - recall: 0.6400 - auc: 0.8707 - val_loss: 0.5174 - val_accuracy: 0.7500 - val_precision: 0.6341 - val_recall: 0.6500 - val_auc: 0.8204\n",
      "Epoch 5/50\n",
      "200/200 [==============================] - 0s 2ms/step - loss: 0.4267 - accuracy: 0.7887 - precision: 0.7165 - recall: 0.6523 - auc: 0.8680 - val_loss: 0.5357 - val_accuracy: 0.7414 - val_precision: 0.6316 - val_recall: 0.6000 - val_auc: 0.8109\n",
      "Epoch 6/50\n",
      "200/200 [==============================] - 0s 2ms/step - loss: 0.4040 - accuracy: 0.8075 - precision: 0.7328 - recall: 0.6957 - auc: 0.8821 - val_loss: 0.5419 - val_accuracy: 0.7500 - val_precision: 0.6486 - val_recall: 0.6000 - val_auc: 0.8020\n",
      "Epoch 7/50\n",
      "200/200 [==============================] - 0s 2ms/step - loss: 0.4072 - accuracy: 0.8012 - precision: 0.7395 - recall: 0.6796 - auc: 0.8818 - val_loss: 0.5481 - val_accuracy: 0.7500 - val_precision: 0.6410 - val_recall: 0.6250 - val_auc: 0.8132\n",
      "Epoch 8/50\n",
      "200/200 [==============================] - 0s 2ms/step - loss: 0.3928 - accuracy: 0.8075 - precision: 0.7473 - recall: 0.7167 - auc: 0.8922 - val_loss: 0.5338 - val_accuracy: 0.7845 - val_precision: 0.6829 - val_recall: 0.7000 - val_auc: 0.8196\n",
      "Epoch 9/50\n",
      "200/200 [==============================] - 0s 2ms/step - loss: 0.3811 - accuracy: 0.8200 - precision: 0.7421 - recall: 0.7030 - auc: 0.8920 - val_loss: 0.5055 - val_accuracy: 0.7845 - val_precision: 0.6667 - val_recall: 0.7500 - val_auc: 0.8372\n",
      "Epoch 10/50\n",
      "200/200 [==============================] - 0s 2ms/step - loss: 0.3553 - accuracy: 0.8275 - precision: 0.7749 - recall: 0.7317 - auc: 0.9123 - val_loss: 0.5559 - val_accuracy: 0.7500 - val_precision: 0.6170 - val_recall: 0.7250 - val_auc: 0.8255\n",
      "Epoch 11/50\n",
      "200/200 [==============================] - 0s 2ms/step - loss: 0.3602 - accuracy: 0.8288 - precision: 0.7630 - recall: 0.7384 - auc: 0.9069 - val_loss: 0.5587 - val_accuracy: 0.7672 - val_precision: 0.6585 - val_recall: 0.6750 - val_auc: 0.8072\n",
      "Epoch 12/50\n",
      "200/200 [==============================] - 0s 2ms/step - loss: 0.3574 - accuracy: 0.8238 - precision: 0.7851 - recall: 0.6810 - auc: 0.9092 - val_loss: 0.5882 - val_accuracy: 0.7586 - val_precision: 0.6667 - val_recall: 0.6000 - val_auc: 0.8077\n",
      "Epoch 13/50\n",
      "200/200 [==============================] - 0s 2ms/step - loss: 0.3468 - accuracy: 0.8388 - precision: 0.7815 - recall: 0.7509 - auc: 0.9159 - val_loss: 0.6058 - val_accuracy: 0.7672 - val_precision: 0.6512 - val_recall: 0.7000 - val_auc: 0.7827\n",
      "Epoch 14/50\n",
      "200/200 [==============================] - 0s 2ms/step - loss: 0.3236 - accuracy: 0.8512 - precision: 0.8193 - recall: 0.7196 - auc: 0.9247 - val_loss: 0.5858 - val_accuracy: 0.7586 - val_precision: 0.6500 - val_recall: 0.6500 - val_auc: 0.8074\n",
      "Epoch 15/50\n",
      "200/200 [==============================] - 0s 1ms/step - loss: 0.3214 - accuracy: 0.8550 - precision: 0.8116 - recall: 0.7778 - auc: 0.9284 - val_loss: 0.5849 - val_accuracy: 0.7500 - val_precision: 0.6122 - val_recall: 0.7500 - val_auc: 0.8299\n",
      "Epoch 16/50\n",
      "200/200 [==============================] - 0s 2ms/step - loss: 0.3006 - accuracy: 0.8675 - precision: 0.8284 - recall: 0.7872 - auc: 0.9377 - val_loss: 0.6288 - val_accuracy: 0.7586 - val_precision: 0.6429 - val_recall: 0.6750 - val_auc: 0.8067\n",
      "Epoch 17/50\n",
      "200/200 [==============================] - 0s 2ms/step - loss: 0.3065 - accuracy: 0.8675 - precision: 0.8431 - recall: 0.7651 - auc: 0.9339 - val_loss: 0.6190 - val_accuracy: 0.7672 - val_precision: 0.6226 - val_recall: 0.8250 - val_auc: 0.8054\n",
      "Epoch 18/50\n",
      "200/200 [==============================] - 0s 2ms/step - loss: 0.2719 - accuracy: 0.8775 - precision: 0.8366 - recall: 0.7934 - auc: 0.9490 - val_loss: 0.6464 - val_accuracy: 0.7672 - val_precision: 0.6667 - val_recall: 0.6500 - val_auc: 0.7993\n",
      "Epoch 19/50\n",
      "200/200 [==============================] - 0s 2ms/step - loss: 0.2572 - accuracy: 0.8850 - precision: 0.8528 - recall: 0.8100 - auc: 0.9550 - val_loss: 0.6051 - val_accuracy: 0.7672 - val_precision: 0.6383 - val_recall: 0.7500 - val_auc: 0.8247\n",
      "Epoch 20/50\n",
      "200/200 [==============================] - 0s 2ms/step - loss: 0.2425 - accuracy: 0.8988 - precision: 0.8769 - recall: 0.8304 - auc: 0.9611 - val_loss: 0.6433 - val_accuracy: 0.7845 - val_precision: 0.6829 - val_recall: 0.7000 - val_auc: 0.8230\n",
      "Epoch 21/50\n",
      "200/200 [==============================] - 0s 2ms/step - loss: 0.2401 - accuracy: 0.8975 - precision: 0.8727 - recall: 0.8292 - auc: 0.9618 - val_loss: 0.6869 - val_accuracy: 0.7500 - val_precision: 0.6410 - val_recall: 0.6250 - val_auc: 0.8053\n",
      "Epoch 22/50\n",
      "200/200 [==============================] - 0s 2ms/step - loss: 0.2271 - accuracy: 0.9038 - precision: 0.8911 - recall: 0.8237 - auc: 0.9655 - val_loss: 0.6930 - val_accuracy: 0.7414 - val_precision: 0.6136 - val_recall: 0.6750 - val_auc: 0.8169\n",
      "Epoch 23/50\n",
      "200/200 [==============================] - 0s 2ms/step - loss: 0.2152 - accuracy: 0.9075 - precision: 0.8881 - recall: 0.8440 - auc: 0.9708 - val_loss: 0.7234 - val_accuracy: 0.7672 - val_precision: 0.6444 - val_recall: 0.7250 - val_auc: 0.8008\n",
      "Epoch 24/50\n",
      "200/200 [==============================] - 0s 2ms/step - loss: 0.2143 - accuracy: 0.9112 - precision: 0.8919 - recall: 0.8431 - auc: 0.9691 - val_loss: 0.8584 - val_accuracy: 0.7155 - val_precision: 0.6061 - val_recall: 0.5000 - val_auc: 0.7883\n",
      "Epoch 25/50\n",
      "200/200 [==============================] - 0s 2ms/step - loss: 0.1872 - accuracy: 0.9137 - precision: 0.8901 - recall: 0.8617 - auc: 0.9784 - val_loss: 0.7423 - val_accuracy: 0.7586 - val_precision: 0.6250 - val_recall: 0.7500 - val_auc: 0.8099\n",
      "Epoch 26/50\n",
      "200/200 [==============================] - 0s 2ms/step - loss: 0.1877 - accuracy: 0.9275 - precision: 0.9124 - recall: 0.8803 - auc: 0.9774 - val_loss: 0.8397 - val_accuracy: 0.7241 - val_precision: 0.6333 - val_recall: 0.4750 - val_auc: 0.7872\n",
      "Epoch 27/50\n",
      "200/200 [==============================] - 0s 2ms/step - loss: 0.1720 - accuracy: 0.9300 - precision: 0.9208 - recall: 0.8746 - auc: 0.9825 - val_loss: 0.9039 - val_accuracy: 0.7328 - val_precision: 0.6154 - val_recall: 0.6000 - val_auc: 0.7694\n",
      "Epoch 28/50\n",
      "200/200 [==============================] - 0s 2ms/step - loss: 0.1585 - accuracy: 0.9488 - precision: 0.9483 - recall: 0.9049 - auc: 0.9863 - val_loss: 0.8149 - val_accuracy: 0.7500 - val_precision: 0.6222 - val_recall: 0.7000 - val_auc: 0.8181\n",
      "Epoch 29/50\n",
      "200/200 [==============================] - 0s 2ms/step - loss: 0.1415 - accuracy: 0.9525 - precision: 0.9500 - recall: 0.9081 - auc: 0.9882 - val_loss: 0.9391 - val_accuracy: 0.7672 - val_precision: 0.6512 - val_recall: 0.7000 - val_auc: 0.7783\n",
      "Epoch 30/50\n",
      "200/200 [==============================] - 0s 2ms/step - loss: 0.1396 - accuracy: 0.9475 - precision: 0.9331 - recall: 0.9201 - auc: 0.9889 - val_loss: 0.8994 - val_accuracy: 0.7414 - val_precision: 0.6136 - val_recall: 0.6750 - val_auc: 0.8025\n",
      "Epoch 31/50\n",
      "200/200 [==============================] - 0s 2ms/step - loss: 0.1485 - accuracy: 0.9488 - precision: 0.9301 - recall: 0.9200 - auc: 0.9866 - val_loss: 0.9676 - val_accuracy: 0.7500 - val_precision: 0.6279 - val_recall: 0.6750 - val_auc: 0.7908\n",
      "Epoch 32/50\n",
      "200/200 [==============================] - 0s 2ms/step - loss: 0.1155 - accuracy: 0.9613 - precision: 0.9562 - recall: 0.9324 - auc: 0.9941 - val_loss: 1.0717 - val_accuracy: 0.7155 - val_precision: 0.5854 - val_recall: 0.6000 - val_auc: 0.7773\n",
      "Epoch 33/50\n",
      "200/200 [==============================] - 0s 2ms/step - loss: 0.1166 - accuracy: 0.9575 - precision: 0.9572 - recall: 0.9145 - auc: 0.9936 - val_loss: 1.0764 - val_accuracy: 0.7328 - val_precision: 0.6000 - val_recall: 0.6750 - val_auc: 0.7872\n",
      "Epoch 34/50\n",
      "200/200 [==============================] - 0s 2ms/step - loss: 0.0965 - accuracy: 0.9663 - precision: 0.9611 - recall: 0.9444 - auc: 0.9959 - val_loss: 1.1169 - val_accuracy: 0.6983 - val_precision: 0.5641 - val_recall: 0.5500 - val_auc: 0.7770\n",
      "Epoch 35/50\n",
      "200/200 [==============================] - 0s 2ms/step - loss: 0.1061 - accuracy: 0.9625 - precision: 0.9493 - recall: 0.9424 - auc: 0.9944 - val_loss: 1.1103 - val_accuracy: 0.7414 - val_precision: 0.6136 - val_recall: 0.6750 - val_auc: 0.7711\n",
      "Epoch 36/50\n",
      "200/200 [==============================] - 0s 2ms/step - loss: 0.0863 - accuracy: 0.9700 - precision: 0.9507 - recall: 0.9643 - auc: 0.9969 - val_loss: 1.0801 - val_accuracy: 0.7500 - val_precision: 0.6410 - val_recall: 0.6250 - val_auc: 0.7906\n",
      "Epoch 37/50\n",
      "200/200 [==============================] - 0s 2ms/step - loss: 0.0787 - accuracy: 0.9775 - precision: 0.9828 - recall: 0.9565 - auc: 0.9979 - val_loss: 1.1958 - val_accuracy: 0.7155 - val_precision: 0.5897 - val_recall: 0.5750 - val_auc: 0.7724\n",
      "Epoch 38/50\n",
      "200/200 [==============================] - 0s 2ms/step - loss: 0.0668 - accuracy: 0.9825 - precision: 0.9922 - recall: 0.9551 - auc: 0.9989 - val_loss: 1.3091 - val_accuracy: 0.6897 - val_precision: 0.5588 - val_recall: 0.4750 - val_auc: 0.7201\n",
      "Epoch 39/50\n",
      "200/200 [==============================] - 0s 2ms/step - loss: 0.0748 - accuracy: 0.9787 - precision: 0.9775 - recall: 0.9596 - auc: 0.9976 - val_loss: 1.2872 - val_accuracy: 0.7069 - val_precision: 0.5652 - val_recall: 0.6500 - val_auc: 0.7688\n",
      "Epoch 40/50\n",
      "200/200 [==============================] - 0s 2ms/step - loss: 0.0972 - accuracy: 0.9600 - precision: 0.9504 - recall: 0.9371 - auc: 0.9946 - val_loss: 1.2940 - val_accuracy: 0.7069 - val_precision: 0.5789 - val_recall: 0.5500 - val_auc: 0.7544\n",
      "Epoch 41/50\n",
      "129/200 [==================>...........] - ETA: 0s - loss: 0.0813 - accuracy: 0.9671 - precision: 0.9708 - recall: 0.9326 - auc: 0.9967WARNING:tensorflow:Your input ran out of data; interrupting training. Make sure that your dataset or generator can generate at least `steps_per_epoch * epochs` batches (in this case, 10000 batches). You may need to use the repeat() function when building your dataset.\n",
      "200/200 [==============================] - 1s 6ms/step - loss: 0.0776 - accuracy: 0.9700 - precision: 0.9700 - recall: 0.9417 - auc: 0.9971 - val_loss: 1.1948 - val_accuracy: 0.7155 - val_precision: 0.6000 - val_recall: 0.5250 - val_auc: 0.7604\n"
     ]
    }
   ],
   "source": [
    "num_epochs = 50\n",
    "history = dl_model.fit(xtrain ,\n",
    "                    ytrain ,\n",
    "                    epochs= num_epochs ,\n",
    "                    steps_per_epoch=200,\n",
    "                    validation_data=(xtest ,ytest))"
   ]
  },
  {
   "cell_type": "code",
   "execution_count": null,
   "id": "d94f2f4b-bf4b-440f-8c9b-03ae5b66eaf8",
   "metadata": {},
   "outputs": [
    {
     "name": "stdout",
     "output_type": "stream",
     "text": [
      "4/4 [==============================] - 0s 2ms/step - loss: 1.1948 - accuracy: 0.7155 - precision: 0.6000 - recall: 0.5250 - auc: 0.7604\n"
     ]
    },
    {
     "data": {
      "text/plain": [
       "[1.194796085357666,\n",
       " 0.7155172228813171,\n",
       " 0.6000000238418579,\n",
       " 0.5249999761581421,\n",
       " 0.7603617906570435]"
      ]
     },
     "execution_count": 20,
     "metadata": {},
     "output_type": "execute_result"
    }
   ],
   "source": [
    "dl_model.evaluate(xtest,ytest)"
   ]
  },
  {
   "cell_type": "code",
   "execution_count": null,
   "id": "4ae3f8c0-341e-4d24-88ec-966b749a94eb",
   "metadata": {},
   "outputs": [
    {
     "name": "stdout",
     "output_type": "stream",
     "text": [
      "0    500\n",
      "1    268\n",
      "Name: Outcome, dtype: int64\n"
     ]
    }
   ],
   "source": [
    "print(data['Outcome'].value_counts())\n",
    "df_class_0 = data[data['Outcome'] == 0]\n",
    "df_class_1 = data[data['Outcome'] == 1]"
   ]
  },
  {
   "cell_type": "code",
   "execution_count": null,
   "id": "1b1ac452-fbc8-4919-be5e-8b886fc3f9fe",
   "metadata": {},
   "outputs": [
    {
     "name": "stdout",
     "output_type": "stream",
     "text": [
      "0.0    500\n",
      "1.0    268\n",
      "Name: Outcome, dtype: int64\n"
     ]
    }
   ],
   "source": [
    "print(data_norm['Outcome'].value_counts())\n",
    "df_n_class_0 = data_norm[data_norm['Outcome'] == 0]\n",
    "df_n_class_1 = data_norm[data_norm['Outcome'] == 1]"
   ]
  },
  {
   "cell_type": "code",
   "execution_count": null,
   "id": "0680aa05-0582-40b2-98a2-e57d4b26793b",
   "metadata": {},
   "outputs": [
    {
     "name": "stdout",
     "output_type": "stream",
     "text": [
      "<class 'pandas.core.frame.DataFrame'>\n",
      "Int64Index: 1000 entries, 1 to 84\n",
      "Data columns (total 9 columns):\n",
      " #   Column                    Non-Null Count  Dtype  \n",
      "---  ------                    --------------  -----  \n",
      " 0   Pregnancies               1000 non-null   float64\n",
      " 1   Glucose                   1000 non-null   float64\n",
      " 2   BloodPressure             1000 non-null   float64\n",
      " 3   SkinThickness             1000 non-null   float64\n",
      " 4   Insulin                   1000 non-null   float64\n",
      " 5   BMI                       1000 non-null   float64\n",
      " 6   DiabetesPedigreeFunction  1000 non-null   float64\n",
      " 7   Age                       1000 non-null   float64\n",
      " 8   Outcome                   1000 non-null   int64  \n",
      "dtypes: float64(8), int64(1)\n",
      "memory usage: 78.1 KB\n"
     ]
    }
   ],
   "source": [
    "df_class_1_over = df_class_1.sample(500, replace=True)\n",
    "df_test_over = pd.concat([df_class_0, df_class_1_over], axis=0)\n",
    "df_test_over.info()"
   ]
  },
  {
   "cell_type": "code",
   "execution_count": null,
   "id": "b9105dee-8292-4717-82a4-1d440732f9fc",
   "metadata": {},
   "outputs": [
    {
     "name": "stdout",
     "output_type": "stream",
     "text": [
      "<class 'pandas.core.frame.DataFrame'>\n",
      "Int64Index: 1000 entries, 1 to 580\n",
      "Data columns (total 9 columns):\n",
      " #   Column                    Non-Null Count  Dtype  \n",
      "---  ------                    --------------  -----  \n",
      " 0   Pregnancies               1000 non-null   float64\n",
      " 1   Glucose                   1000 non-null   float64\n",
      " 2   BloodPressure             1000 non-null   float64\n",
      " 3   SkinThickness             1000 non-null   float64\n",
      " 4   Insulin                   1000 non-null   float64\n",
      " 5   BMI                       1000 non-null   float64\n",
      " 6   DiabetesPedigreeFunction  1000 non-null   float64\n",
      " 7   Age                       1000 non-null   float64\n",
      " 8   Outcome                   1000 non-null   float64\n",
      "dtypes: float64(9)\n",
      "memory usage: 78.1 KB\n"
     ]
    }
   ],
   "source": [
    "df_n_class_1_over = df_n_class_1.sample(500, replace=True)\n",
    "df_test_n_over = pd.concat([df_n_class_0, df_n_class_1_over], axis=0)\n",
    "df_test_n_over.info()"
   ]
  },
  {
   "cell_type": "code",
   "execution_count": null,
   "id": "e68a452f-c49b-4d8d-b1ff-55db21a1de4c",
   "metadata": {},
   "outputs": [],
   "source": [
    "y1=df_test_over['Outcome']\n",
    "df_test_over=df_test_over.drop(['Outcome'],axis=1)\n",
    "X1=df_test_over"
   ]
  },
  {
   "cell_type": "code",
   "execution_count": null,
   "id": "91e8db3d-5b85-4d6e-ab37-049beb8c7327",
   "metadata": {},
   "outputs": [],
   "source": [
    "y1n=df_test_n_over['Outcome']\n",
    "df_test_n_over=df_test_n_over.drop(['Outcome'],axis=1)\n",
    "X1n=df_test_n_over"
   ]
  },
  {
   "cell_type": "code",
   "execution_count": null,
   "id": "4e407040-82c7-4983-9b7d-1e1ce22b296d",
   "metadata": {},
   "outputs": [
    {
     "name": "stdout",
     "output_type": "stream",
     "text": [
      "training data shape is :(800, 8).\n",
      "training label shape is :(800,).\n",
      "testing data shape is :(200, 8).\n",
      "testing label shape is :(200,).\n"
     ]
    }
   ],
   "source": [
    "from sklearn.model_selection import train_test_split\n",
    "\n",
    "X1_s_train,X1_s_test ,y1_s_train, y1_s_test = train_test_split(X1,y1,\n",
    "                                                   test_size=0.2,\n",
    "                                                   random_state=0,\n",
    "                                                  shuffle = True,\n",
    "                                                  stratify = y1)\n",
    "\n",
    "print('training data shape is :{}.'.format(X1_s_train.shape))\n",
    "print('training label shape is :{}.'.format(y1_s_train.shape))\n",
    "print('testing data shape is :{}.'.format(X1_s_test.shape))\n",
    "print('testing label shape is :{}.'.format(y1_s_test.shape))"
   ]
  },
  {
   "cell_type": "code",
   "execution_count": null,
   "id": "2ef2f045-b92c-4360-8c1a-df0818219920",
   "metadata": {},
   "outputs": [
    {
     "name": "stdout",
     "output_type": "stream",
     "text": [
      "training data shape is :(800, 8).\n",
      "training label shape is :(800,).\n",
      "testing data shape is :(200, 8).\n",
      "testing label shape is :(200,).\n"
     ]
    }
   ],
   "source": [
    "from sklearn.model_selection import train_test_split\n",
    "\n",
    "X1_s_n_train,X1_s_n_test ,y1_s_n_train, y1_s_n_test = train_test_split(X1n,y1n,\n",
    "                                                   test_size=0.2,\n",
    "                                                   random_state=0,\n",
    "                                                  shuffle = True,\n",
    "                                                  stratify = y1n)\n",
    "\n",
    "print('training data shape is :{}.'.format(X1_s_n_train.shape))\n",
    "print('training label shape is :{}.'.format(y1_s_n_train.shape))\n",
    "print('testing data shape is :{}.'.format(X1_s_n_test.shape))\n",
    "print('testing label shape is :{}.'.format(y1_s_n_test.shape))"
   ]
  },
  {
   "cell_type": "code",
   "execution_count": null,
   "id": "ca62c541-5fba-488e-bf97-a480a4ff0ef1",
   "metadata": {},
   "outputs": [
    {
     "data": {
      "text/html": [
       "<style>#sk-container-id-2 {color: black;background-color: white;}#sk-container-id-2 pre{padding: 0;}#sk-container-id-2 div.sk-toggleable {background-color: white;}#sk-container-id-2 label.sk-toggleable__label {cursor: pointer;display: block;width: 100%;margin-bottom: 0;padding: 0.3em;box-sizing: border-box;text-align: center;}#sk-container-id-2 label.sk-toggleable__label-arrow:before {content: \"▸\";float: left;margin-right: 0.25em;color: #696969;}#sk-container-id-2 label.sk-toggleable__label-arrow:hover:before {color: black;}#sk-container-id-2 div.sk-estimator:hover label.sk-toggleable__label-arrow:before {color: black;}#sk-container-id-2 div.sk-toggleable__content {max-height: 0;max-width: 0;overflow: hidden;text-align: left;background-color: #f0f8ff;}#sk-container-id-2 div.sk-toggleable__content pre {margin: 0.2em;color: black;border-radius: 0.25em;background-color: #f0f8ff;}#sk-container-id-2 input.sk-toggleable__control:checked~div.sk-toggleable__content {max-height: 200px;max-width: 100%;overflow: auto;}#sk-container-id-2 input.sk-toggleable__control:checked~label.sk-toggleable__label-arrow:before {content: \"▾\";}#sk-container-id-2 div.sk-estimator input.sk-toggleable__control:checked~label.sk-toggleable__label {background-color: #d4ebff;}#sk-container-id-2 div.sk-label input.sk-toggleable__control:checked~label.sk-toggleable__label {background-color: #d4ebff;}#sk-container-id-2 input.sk-hidden--visually {border: 0;clip: rect(1px 1px 1px 1px);clip: rect(1px, 1px, 1px, 1px);height: 1px;margin: -1px;overflow: hidden;padding: 0;position: absolute;width: 1px;}#sk-container-id-2 div.sk-estimator {font-family: monospace;background-color: #f0f8ff;border: 1px dotted black;border-radius: 0.25em;box-sizing: border-box;margin-bottom: 0.5em;}#sk-container-id-2 div.sk-estimator:hover {background-color: #d4ebff;}#sk-container-id-2 div.sk-parallel-item::after {content: \"\";width: 100%;border-bottom: 1px solid gray;flex-grow: 1;}#sk-container-id-2 div.sk-label:hover label.sk-toggleable__label {background-color: #d4ebff;}#sk-container-id-2 div.sk-serial::before {content: \"\";position: absolute;border-left: 1px solid gray;box-sizing: border-box;top: 0;bottom: 0;left: 50%;z-index: 0;}#sk-container-id-2 div.sk-serial {display: flex;flex-direction: column;align-items: center;background-color: white;padding-right: 0.2em;padding-left: 0.2em;position: relative;}#sk-container-id-2 div.sk-item {position: relative;z-index: 1;}#sk-container-id-2 div.sk-parallel {display: flex;align-items: stretch;justify-content: center;background-color: white;position: relative;}#sk-container-id-2 div.sk-item::before, #sk-container-id-2 div.sk-parallel-item::before {content: \"\";position: absolute;border-left: 1px solid gray;box-sizing: border-box;top: 0;bottom: 0;left: 50%;z-index: -1;}#sk-container-id-2 div.sk-parallel-item {display: flex;flex-direction: column;z-index: 1;position: relative;background-color: white;}#sk-container-id-2 div.sk-parallel-item:first-child::after {align-self: flex-end;width: 50%;}#sk-container-id-2 div.sk-parallel-item:last-child::after {align-self: flex-start;width: 50%;}#sk-container-id-2 div.sk-parallel-item:only-child::after {width: 0;}#sk-container-id-2 div.sk-dashed-wrapped {border: 1px dashed gray;margin: 0 0.4em 0.5em 0.4em;box-sizing: border-box;padding-bottom: 0.4em;background-color: white;}#sk-container-id-2 div.sk-label label {font-family: monospace;font-weight: bold;display: inline-block;line-height: 1.2em;}#sk-container-id-2 div.sk-label-container {text-align: center;}#sk-container-id-2 div.sk-container {/* jupyter's `normalize.less` sets `[hidden] { display: none; }` but bootstrap.min.css set `[hidden] { display: none !important; }` so we also need the `!important` here to be able to override the default hidden behavior on the sphinx rendered scikit-learn.org. See: https://github.com/scikit-learn/scikit-learn/issues/21755 */display: inline-block !important;position: relative;}#sk-container-id-2 div.sk-text-repr-fallback {display: none;}</style><div id=\"sk-container-id-2\" class=\"sk-top-container\"><div class=\"sk-text-repr-fallback\"><pre>SVC(gamma=8)</pre><b>In a Jupyter environment, please rerun this cell to show the HTML representation or trust the notebook. <br />On GitHub, the HTML representation is unable to render, please try loading this page with nbviewer.org.</b></div><div class=\"sk-container\" hidden><div class=\"sk-item\"><div class=\"sk-estimator sk-toggleable\"><input class=\"sk-toggleable__control sk-hidden--visually\" id=\"sk-estimator-id-2\" type=\"checkbox\" checked><label for=\"sk-estimator-id-2\" class=\"sk-toggleable__label sk-toggleable__label-arrow\">SVC</label><div class=\"sk-toggleable__content\"><pre>SVC(gamma=8)</pre></div></div></div></div></div>"
      ],
      "text/plain": [
       "SVC(gamma=8)"
      ]
     },
     "execution_count": 29,
     "metadata": {},
     "output_type": "execute_result"
    }
   ],
   "source": [
    "from sklearn.svm import SVC\n",
    "svc_s_model = SVC(kernel='rbf',gamma=8)\n",
    "svc_s_model.fit(X1_s_n_train, y1_s_n_train)\n"
   ]
  },
  {
   "cell_type": "code",
   "execution_count": null,
   "id": "f4d78829-fd3d-4cdc-84dd-2dccccba42c2",
   "metadata": {},
   "outputs": [
    {
     "name": "stdout",
     "output_type": "stream",
     "text": [
      "Training confusion matrix\n",
      "[[345  55]\n",
      " [ 59 341]]\n",
      "validation confusion matrix\n",
      "[[82 18]\n",
      " [30 70]]\n",
      "              precision    recall  f1-score   support\n",
      "\n",
      "         0.0       0.73      0.82      0.77       100\n",
      "         1.0       0.80      0.70      0.74       100\n",
      "\n",
      "    accuracy                           0.76       200\n",
      "   macro avg       0.76      0.76      0.76       200\n",
      "weighted avg       0.76      0.76      0.76       200\n",
      "\n",
      "training accuracy = 85.75\n",
      "testing accuracy = 76.0\n"
     ]
    }
   ],
   "source": [
    "from sklearn.metrics import accuracy_score, confusion_matrix, classification_report\n",
    "predictions= svc_s_model.predict(X1_s_n_train)\n",
    "percentage=svc_s_model.score(X1_s_n_train,y1_s_n_train)\n",
    "res=confusion_matrix(y1_s_n_train,predictions)\n",
    "print(\"Training confusion matrix\")\n",
    "print(res)\n",
    "predictions= svc_s_model.predict(X1_s_n_test)\n",
    "percentage=svc_s_model.score(X1_s_n_test,y1_s_n_test)\n",
    "res=confusion_matrix(y1_s_n_test,predictions)\n",
    "print(\"validation confusion matrix\")\n",
    "print(res)\n",
    "print(classification_report(y1_s_n_test, predictions))\n",
    "# check the accuracy on the training set\n",
    "print('training accuracy = '+str(svc_s_model.score(X1_s_n_train, y1_s_n_train)*100))\n",
    "print('testing accuracy = '+str(svc_s_model.score(X1_s_n_test, y1_s_n_test)*100))"
   ]
  },
  {
   "cell_type": "code",
   "execution_count": null,
   "id": "97a8f98b-d480-4d68-b16b-21661dcd0efc",
   "metadata": {},
   "outputs": [
    {
     "name": "stdout",
     "output_type": "stream",
     "text": [
      "Epoch 1/50\n",
      "200/200 [==============================] - 0s 2ms/step - loss: 0.3494 - accuracy: 0.8938 - precision: 0.8908 - recall: 0.8975 - auc: 0.9549 - val_loss: 0.1586 - val_accuracy: 0.9550 - val_precision: 0.9596 - val_recall: 0.9500 - val_auc: 0.9817\n",
      "Epoch 2/50\n",
      "200/200 [==============================] - 0s 2ms/step - loss: 0.1645 - accuracy: 0.9425 - precision: 0.9317 - recall: 0.9550 - auc: 0.9862 - val_loss: 0.1525 - val_accuracy: 0.9550 - val_precision: 0.9333 - val_recall: 0.9800 - val_auc: 0.9827\n",
      "Epoch 3/50\n",
      "200/200 [==============================] - 0s 2ms/step - loss: 0.1025 - accuracy: 0.9775 - precision: 0.9751 - recall: 0.9800 - auc: 0.9958 - val_loss: 0.1284 - val_accuracy: 0.9550 - val_precision: 0.9333 - val_recall: 0.9800 - val_auc: 0.9885\n",
      "Epoch 4/50\n",
      "200/200 [==============================] - 0s 2ms/step - loss: 0.0817 - accuracy: 0.9812 - precision: 0.9777 - recall: 0.9850 - auc: 0.9965 - val_loss: 0.1316 - val_accuracy: 0.9700 - val_precision: 0.9608 - val_recall: 0.9800 - val_auc: 0.9851\n",
      "Epoch 5/50\n",
      "200/200 [==============================] - 0s 2ms/step - loss: 0.0664 - accuracy: 0.9925 - precision: 0.9950 - recall: 0.9900 - auc: 0.9970 - val_loss: 0.1198 - val_accuracy: 0.9750 - val_precision: 0.9612 - val_recall: 0.9900 - val_auc: 0.9852\n",
      "Epoch 6/50\n",
      "200/200 [==============================] - 0s 2ms/step - loss: 0.0539 - accuracy: 0.9912 - precision: 0.9925 - recall: 0.9900 - auc: 0.9989 - val_loss: 0.1201 - val_accuracy: 0.9750 - val_precision: 0.9612 - val_recall: 0.9900 - val_auc: 0.9878\n",
      "Epoch 7/50\n",
      "200/200 [==============================] - 0s 2ms/step - loss: 0.0465 - accuracy: 0.9912 - precision: 0.9876 - recall: 0.9950 - auc: 0.9989 - val_loss: 0.1501 - val_accuracy: 0.9650 - val_precision: 0.9429 - val_recall: 0.9900 - val_auc: 0.9841\n",
      "Epoch 8/50\n",
      "200/200 [==============================] - 0s 2ms/step - loss: 0.0693 - accuracy: 0.9775 - precision: 0.9799 - recall: 0.9750 - auc: 0.9974 - val_loss: 0.1359 - val_accuracy: 0.9700 - val_precision: 0.9608 - val_recall: 0.9800 - val_auc: 0.9839\n",
      "Epoch 9/50\n",
      "200/200 [==============================] - 0s 2ms/step - loss: 0.0451 - accuracy: 0.9900 - precision: 0.9851 - recall: 0.9950 - auc: 0.9993 - val_loss: 0.1068 - val_accuracy: 0.9650 - val_precision: 0.9604 - val_recall: 0.9700 - val_auc: 0.9901\n",
      "Epoch 10/50\n",
      "200/200 [==============================] - 0s 2ms/step - loss: 0.0348 - accuracy: 0.9950 - precision: 0.9950 - recall: 0.9950 - auc: 0.9999 - val_loss: 0.1224 - val_accuracy: 0.9750 - val_precision: 0.9612 - val_recall: 0.9900 - val_auc: 0.9893\n",
      "Epoch 11/50\n",
      "200/200 [==============================] - 0s 2ms/step - loss: 0.0239 - accuracy: 0.9987 - precision: 0.9975 - recall: 1.0000 - auc: 1.0000 - val_loss: 0.1234 - val_accuracy: 0.9700 - val_precision: 0.9608 - val_recall: 0.9800 - val_auc: 0.9868\n",
      "Epoch 12/50\n",
      "200/200 [==============================] - 0s 2ms/step - loss: 0.0200 - accuracy: 1.0000 - precision: 1.0000 - recall: 1.0000 - auc: 1.0000 - val_loss: 0.1222 - val_accuracy: 0.9650 - val_precision: 0.9515 - val_recall: 0.9800 - val_auc: 0.9890\n",
      "Epoch 13/50\n",
      "200/200 [==============================] - 0s 2ms/step - loss: 0.0149 - accuracy: 1.0000 - precision: 1.0000 - recall: 1.0000 - auc: 1.0000 - val_loss: 0.1673 - val_accuracy: 0.9500 - val_precision: 0.9167 - val_recall: 0.9900 - val_auc: 0.9896\n",
      "Epoch 14/50\n",
      "200/200 [==============================] - 0s 2ms/step - loss: 0.0147 - accuracy: 1.0000 - precision: 1.0000 - recall: 1.0000 - auc: 1.0000 - val_loss: 0.1262 - val_accuracy: 0.9650 - val_precision: 0.9515 - val_recall: 0.9800 - val_auc: 0.9899\n",
      "Epoch 15/50\n",
      "200/200 [==============================] - 0s 2ms/step - loss: 0.0183 - accuracy: 0.9987 - precision: 0.9975 - recall: 1.0000 - auc: 0.9999 - val_loss: 0.1834 - val_accuracy: 0.9500 - val_precision: 0.9167 - val_recall: 0.9900 - val_auc: 0.9881\n",
      "Epoch 16/50\n",
      "200/200 [==============================] - 0s 2ms/step - loss: 0.1221 - accuracy: 0.9638 - precision: 0.9603 - recall: 0.9675 - auc: 0.9915 - val_loss: 0.2298 - val_accuracy: 0.9350 - val_precision: 0.9579 - val_recall: 0.9100 - val_auc: 0.9714\n",
      "Epoch 17/50\n",
      "200/200 [==============================] - 0s 2ms/step - loss: 0.0460 - accuracy: 0.9875 - precision: 0.9851 - recall: 0.9900 - auc: 0.9990 - val_loss: 0.2642 - val_accuracy: 0.9100 - val_precision: 0.8596 - val_recall: 0.9800 - val_auc: 0.9783\n",
      "Epoch 18/50\n",
      "200/200 [==============================] - 0s 2ms/step - loss: 0.0324 - accuracy: 0.9937 - precision: 0.9901 - recall: 0.9975 - auc: 0.9995 - val_loss: 0.1474 - val_accuracy: 0.9700 - val_precision: 0.9519 - val_recall: 0.9900 - val_auc: 0.9850\n",
      "Epoch 19/50\n",
      "200/200 [==============================] - 0s 2ms/step - loss: 0.0266 - accuracy: 0.9950 - precision: 0.9975 - recall: 0.9925 - auc: 0.9996 - val_loss: 0.1343 - val_accuracy: 0.9700 - val_precision: 0.9608 - val_recall: 0.9800 - val_auc: 0.9849\n",
      "Epoch 20/50\n",
      "200/200 [==============================] - 0s 2ms/step - loss: 0.0125 - accuracy: 0.9987 - precision: 1.0000 - recall: 0.9975 - auc: 1.0000 - val_loss: 0.1749 - val_accuracy: 0.9450 - val_precision: 0.9083 - val_recall: 0.9900 - val_auc: 0.9894\n",
      "Epoch 21/50\n",
      "200/200 [==============================] - 0s 2ms/step - loss: 0.0094 - accuracy: 1.0000 - precision: 1.0000 - recall: 1.0000 - auc: 1.0000 - val_loss: 0.1478 - val_accuracy: 0.9600 - val_precision: 0.9423 - val_recall: 0.9800 - val_auc: 0.9902\n",
      "Epoch 22/50\n",
      "200/200 [==============================] - 0s 2ms/step - loss: 0.0063 - accuracy: 1.0000 - precision: 1.0000 - recall: 1.0000 - auc: 1.0000 - val_loss: 0.1353 - val_accuracy: 0.9700 - val_precision: 0.9608 - val_recall: 0.9800 - val_auc: 0.9897\n",
      "Epoch 23/50\n",
      "200/200 [==============================] - 0s 2ms/step - loss: 0.0049 - accuracy: 1.0000 - precision: 1.0000 - recall: 1.0000 - auc: 1.0000 - val_loss: 0.1488 - val_accuracy: 0.9600 - val_precision: 0.9423 - val_recall: 0.9800 - val_auc: 0.9856\n",
      "Epoch 24/50\n",
      "200/200 [==============================] - 0s 2ms/step - loss: 0.0046 - accuracy: 1.0000 - precision: 1.0000 - recall: 1.0000 - auc: 1.0000 - val_loss: 0.1588 - val_accuracy: 0.9550 - val_precision: 0.9252 - val_recall: 0.9900 - val_auc: 0.9895\n",
      "Epoch 25/50\n",
      "200/200 [==============================] - 0s 2ms/step - loss: 0.0039 - accuracy: 1.0000 - precision: 1.0000 - recall: 1.0000 - auc: 1.0000 - val_loss: 0.1521 - val_accuracy: 0.9550 - val_precision: 0.9333 - val_recall: 0.9800 - val_auc: 0.9858\n",
      "Epoch 26/50\n",
      "200/200 [==============================] - 0s 2ms/step - loss: 0.0034 - accuracy: 1.0000 - precision: 1.0000 - recall: 1.0000 - auc: 1.0000 - val_loss: 0.1544 - val_accuracy: 0.9600 - val_precision: 0.9423 - val_recall: 0.9800 - val_auc: 0.9861\n",
      "Epoch 27/50\n",
      "200/200 [==============================] - 0s 2ms/step - loss: 0.0031 - accuracy: 1.0000 - precision: 1.0000 - recall: 1.0000 - auc: 1.0000 - val_loss: 0.1514 - val_accuracy: 0.9650 - val_precision: 0.9515 - val_recall: 0.9800 - val_auc: 0.9862\n",
      "Epoch 28/50\n",
      "200/200 [==============================] - 0s 2ms/step - loss: 0.0029 - accuracy: 1.0000 - precision: 1.0000 - recall: 1.0000 - auc: 1.0000 - val_loss: 0.1778 - val_accuracy: 0.9450 - val_precision: 0.9159 - val_recall: 0.9800 - val_auc: 0.9863\n",
      "Epoch 29/50\n",
      "200/200 [==============================] - 0s 2ms/step - loss: 0.0028 - accuracy: 1.0000 - precision: 1.0000 - recall: 1.0000 - auc: 1.0000 - val_loss: 0.1652 - val_accuracy: 0.9550 - val_precision: 0.9252 - val_recall: 0.9900 - val_auc: 0.9866\n",
      "Epoch 30/50\n",
      "200/200 [==============================] - 0s 2ms/step - loss: 0.0023 - accuracy: 1.0000 - precision: 1.0000 - recall: 1.0000 - auc: 1.0000 - val_loss: 0.1631 - val_accuracy: 0.9650 - val_precision: 0.9515 - val_recall: 0.9800 - val_auc: 0.9863\n",
      "Epoch 31/50\n",
      "200/200 [==============================] - 0s 2ms/step - loss: 0.0022 - accuracy: 1.0000 - precision: 1.0000 - recall: 1.0000 - auc: 1.0000 - val_loss: 0.1543 - val_accuracy: 0.9650 - val_precision: 0.9515 - val_recall: 0.9800 - val_auc: 0.9868\n",
      "Epoch 32/50\n",
      "200/200 [==============================] - 0s 2ms/step - loss: 0.0020 - accuracy: 1.0000 - precision: 1.0000 - recall: 1.0000 - auc: 1.0000 - val_loss: 0.1709 - val_accuracy: 0.9500 - val_precision: 0.9245 - val_recall: 0.9800 - val_auc: 0.9867\n",
      "Epoch 33/50\n",
      "200/200 [==============================] - 0s 2ms/step - loss: 0.0018 - accuracy: 1.0000 - precision: 1.0000 - recall: 1.0000 - auc: 1.0000 - val_loss: 0.1650 - val_accuracy: 0.9600 - val_precision: 0.9423 - val_recall: 0.9800 - val_auc: 0.9862\n",
      "Epoch 34/50\n",
      "200/200 [==============================] - 0s 2ms/step - loss: 0.0989 - accuracy: 0.9825 - precision: 0.9801 - recall: 0.9850 - auc: 0.9938 - val_loss: 0.5491 - val_accuracy: 0.8900 - val_precision: 0.8421 - val_recall: 0.9600 - val_auc: 0.9427\n",
      "Epoch 35/50\n",
      "200/200 [==============================] - 0s 2ms/step - loss: 0.2823 - accuracy: 0.9337 - precision: 0.9305 - recall: 0.9375 - auc: 0.9697 - val_loss: 0.3124 - val_accuracy: 0.9300 - val_precision: 0.8909 - val_recall: 0.9800 - val_auc: 0.9584\n",
      "Epoch 36/50\n",
      "200/200 [==============================] - 0s 2ms/step - loss: 0.0664 - accuracy: 0.9850 - precision: 0.9826 - recall: 0.9875 - auc: 0.9954 - val_loss: 0.2398 - val_accuracy: 0.9150 - val_precision: 0.8673 - val_recall: 0.9800 - val_auc: 0.9826\n",
      "Epoch 37/50\n",
      "200/200 [==============================] - 0s 2ms/step - loss: 0.0209 - accuracy: 0.9937 - precision: 0.9877 - recall: 1.0000 - auc: 0.9999 - val_loss: 0.1886 - val_accuracy: 0.9500 - val_precision: 0.9245 - val_recall: 0.9800 - val_auc: 0.9780\n",
      "Epoch 38/50\n",
      "200/200 [==============================] - 0s 2ms/step - loss: 0.0076 - accuracy: 1.0000 - precision: 1.0000 - recall: 1.0000 - auc: 1.0000 - val_loss: 0.1942 - val_accuracy: 0.9500 - val_precision: 0.9245 - val_recall: 0.9800 - val_auc: 0.9799\n",
      "Epoch 39/50\n",
      "200/200 [==============================] - 0s 2ms/step - loss: 0.0052 - accuracy: 1.0000 - precision: 1.0000 - recall: 1.0000 - auc: 1.0000 - val_loss: 0.1953 - val_accuracy: 0.9450 - val_precision: 0.9159 - val_recall: 0.9800 - val_auc: 0.9802\n",
      "Epoch 40/50\n",
      "200/200 [==============================] - 0s 2ms/step - loss: 0.0043 - accuracy: 1.0000 - precision: 1.0000 - recall: 1.0000 - auc: 1.0000 - val_loss: 0.1876 - val_accuracy: 0.9500 - val_precision: 0.9245 - val_recall: 0.9800 - val_auc: 0.9803\n",
      "Epoch 41/50\n",
      "200/200 [==============================] - 0s 2ms/step - loss: 0.0036 - accuracy: 1.0000 - precision: 1.0000 - recall: 1.0000 - auc: 1.0000 - val_loss: 0.2035 - val_accuracy: 0.9500 - val_precision: 0.9245 - val_recall: 0.9800 - val_auc: 0.9801\n",
      "Epoch 42/50\n",
      "200/200 [==============================] - 0s 2ms/step - loss: 0.0032 - accuracy: 1.0000 - precision: 1.0000 - recall: 1.0000 - auc: 1.0000 - val_loss: 0.1993 - val_accuracy: 0.9550 - val_precision: 0.9333 - val_recall: 0.9800 - val_auc: 0.9802\n",
      "Epoch 43/50\n",
      "200/200 [==============================] - 0s 2ms/step - loss: 0.0028 - accuracy: 1.0000 - precision: 1.0000 - recall: 1.0000 - auc: 1.0000 - val_loss: 0.2012 - val_accuracy: 0.9500 - val_precision: 0.9245 - val_recall: 0.9800 - val_auc: 0.9847\n",
      "Epoch 44/50\n",
      "200/200 [==============================] - 0s 2ms/step - loss: 0.0025 - accuracy: 1.0000 - precision: 1.0000 - recall: 1.0000 - auc: 1.0000 - val_loss: 0.2125 - val_accuracy: 0.9450 - val_precision: 0.9159 - val_recall: 0.9800 - val_auc: 0.9801\n",
      "Epoch 45/50\n",
      "200/200 [==============================] - 0s 2ms/step - loss: 0.0022 - accuracy: 1.0000 - precision: 1.0000 - recall: 1.0000 - auc: 1.0000 - val_loss: 0.2136 - val_accuracy: 0.9450 - val_precision: 0.9159 - val_recall: 0.9800 - val_auc: 0.9805\n",
      "Epoch 46/50\n",
      "200/200 [==============================] - 0s 2ms/step - loss: 0.0020 - accuracy: 1.0000 - precision: 1.0000 - recall: 1.0000 - auc: 1.0000 - val_loss: 0.2114 - val_accuracy: 0.9500 - val_precision: 0.9245 - val_recall: 0.9800 - val_auc: 0.9852\n",
      "Epoch 47/50\n",
      "200/200 [==============================] - 0s 2ms/step - loss: 0.0018 - accuracy: 1.0000 - precision: 1.0000 - recall: 1.0000 - auc: 1.0000 - val_loss: 0.2098 - val_accuracy: 0.9500 - val_precision: 0.9245 - val_recall: 0.9800 - val_auc: 0.9851\n",
      "Epoch 48/50\n",
      "200/200 [==============================] - 0s 2ms/step - loss: 0.0017 - accuracy: 1.0000 - precision: 1.0000 - recall: 1.0000 - auc: 1.0000 - val_loss: 0.2098 - val_accuracy: 0.9550 - val_precision: 0.9333 - val_recall: 0.9800 - val_auc: 0.9853\n",
      "Epoch 49/50\n",
      "200/200 [==============================] - 0s 2ms/step - loss: 0.0015 - accuracy: 1.0000 - precision: 1.0000 - recall: 1.0000 - auc: 1.0000 - val_loss: 0.2178 - val_accuracy: 0.9500 - val_precision: 0.9245 - val_recall: 0.9800 - val_auc: 0.9855\n",
      "Epoch 50/50\n",
      "200/200 [==============================] - 0s 2ms/step - loss: 0.0014 - accuracy: 1.0000 - precision: 1.0000 - recall: 1.0000 - auc: 1.0000 - val_loss: 0.2157 - val_accuracy: 0.9450 - val_precision: 0.9159 - val_recall: 0.9800 - val_auc: 0.9857\n"
     ]
    }
   ],
   "source": [
    "num_epochs = 50\n",
    "history = dl_model.fit(X1_s_train ,\n",
    "                    y1_s_train ,\n",
    "                    epochs= num_epochs ,\n",
    "                    steps_per_epoch=200,\n",
    "                    validation_data=(X1_s_test ,y1_s_test))"
   ]
  },
  {
   "cell_type": "code",
   "execution_count": null,
   "id": "d308fe6e-8015-49f2-9d52-29be1d4b818d",
   "metadata": {},
   "outputs": [
    {
     "name": "stdout",
     "output_type": "stream",
     "text": [
      "25/25 [==============================] - 0s 2ms/step - loss: 0.0012 - accuracy: 1.0000 - precision: 1.0000 - recall: 1.0000 - auc: 1.0000\n"
     ]
    },
    {
     "data": {
      "text/plain": [
       "[0.0011973039945587516, 1.0, 1.0, 1.0, 1.0]"
      ]
     },
     "execution_count": 32,
     "metadata": {},
     "output_type": "execute_result"
    }
   ],
   "source": [
    "dl_model.evaluate(X1_s_train ,\n",
    "                    y1_s_train)"
   ]
  },
  {
   "cell_type": "code",
   "execution_count": null,
   "id": "d2b6eb40-d945-4e0a-b2d2-42f61d507927",
   "metadata": {},
   "outputs": [
    {
     "name": "stdout",
     "output_type": "stream",
     "text": [
      "7/7 [==============================] - 0s 3ms/step - loss: 0.2157 - accuracy: 0.9450 - precision: 0.9159 - recall: 0.9800 - auc: 0.9857\n"
     ]
    },
    {
     "data": {
      "text/plain": [
       "[0.21570028364658356,\n",
       " 0.9449999928474426,\n",
       " 0.9158878326416016,\n",
       " 0.9800000190734863,\n",
       " 0.9856500625610352]"
      ]
     },
     "execution_count": 33,
     "metadata": {},
     "output_type": "execute_result"
    }
   ],
   "source": [
    "dl_model.evaluate(X1_s_test ,y1_s_test)"
   ]
  },
  {
   "cell_type": "code",
   "execution_count": null,
   "id": "c4088a28-15aa-496a-b164-a9192a849eb9",
   "metadata": {},
   "outputs": [],
   "source": []
  }
 ],
 "metadata": {
  "kernelspec": {
   "display_name": "Python 3.9.4 64-bit",
   "language": "python",
   "name": "python3"
  },
  "language_info": {
   "codemirror_mode": {
    "name": "ipython",
    "version": 3
   },
   "file_extension": ".py",
   "mimetype": "text/x-python",
   "name": "python",
   "nbconvert_exporter": "python",
   "pygments_lexer": "ipython3",
   "version": "3.9.4"
  },
  "vscode": {
   "interpreter": {
    "hash": "14dce8f25491bca58bcc1a82caef30b61f5abfb41bcf16ff34e1a1318fef0837"
   }
  }
 },
 "nbformat": 4,
 "nbformat_minor": 5
}
